{
 "cells": [
  {
   "cell_type": "markdown",
   "metadata": {},
   "source": [
    "# Helper.py\n",
    "helper for gridword.py\n"
   ]
  },
  {
   "cell_type": "code",
   "execution_count": 2,
   "metadata": {},
   "outputs": [],
   "source": [
    "import numpy as np\n",
    "import random\n",
    "import tensorflow as tf\n",
    "import matplotlib.pyplot as plt\n",
    "import scipy.misc\n",
    "import os\n",
    "import csv\n",
    "import itertools\n",
    "import tensorflow.contrib.slim as slim"
   ]
  },
  {
   "cell_type": "code",
   "execution_count": 4,
   "metadata": {},
   "outputs": [],
   "source": [
    "# 게임 프레임의 크기를 재조절하는 함수\n",
    "def processState(state1):\n",
    "    return np.reshape(state1, [21168])\n"
   ]
  },
  {
   "cell_type": "code",
   "execution_count": 5,
   "metadata": {},
   "outputs": [],
   "source": [
    "# 제 1 네트워크의 매개변수에 맞춰 타깃 네트워크의 매개변수를 업데이트 하는 함수들\n",
    "def updateTargetGraph(tfVars, tau):\n",
    "    total_vars = len(tfVars)\n",
    "    op_holder = []\n",
    "    for idx, var in enumerate(tfVars[0:total_vars//2]):\n",
    "        op_holder.append(tfVars[idx+total_vars//2].assign((var.value()*tau)+\\\n",
    "                                                         (1-tau)*tfVars[idx+total_vars//2].value()))\n",
    "    return op_holder\n",
    "\n",
    "def updateTarget(op_holder, sess):\n",
    "    for op in op_holder:\n",
    "        sess.run(op)\n",
    "    total_vars = len(tf.trainable_variables())\n",
    "    a = tf.trainable_variables()[0].eval(session=sess)\n",
    "    b = tf.trainable_variables()[total_vars//2].eval(session=sess)\n",
    "    if a.all() == b.all():\n",
    "        print(\"Target Set Success\")\n",
    "    else:\n",
    "        print(\"Target Set Failed\")"
   ]
  },
  {
   "cell_type": "code",
   "execution_count": 6,
   "metadata": {},
   "outputs": [],
   "source": [
    "# 성능 수치 및 에피소드 로그를 기록 (컨트롤 센터용)\n",
    "def saveToCenter(i,rList,jList,bufferArray,summaryLength,h_size,sess,mainQN,time_per_step):\n",
    "    with open('./Center/log.csv', 'a') as myfile:\n",
    "        state_display = (np.zeros([1,h_size]),np.zeros([1,h_size]))\n",
    "        imagesS = []\n",
    "        for idx,z in enumerate(np.vstack(bufferArray[:,0])):\n",
    "            img,state_display = sess.run([mainQN.salience,mainQN.rnn_state],\\\n",
    "                                        feed_dict={mainQN.scalarInput:np.reshape(bufferArray[idx,0],\\\n",
    "                                                                                [1,21168])/255.0,\\\n",
    "                                                  mainQN.trainLength:1,mainQN.state_in:state_display,\\\n",
    "                                                  mainQN.batch_size:1})\n",
    "            imagesS.append(img)\n",
    "        imagesS = (imagesS - np.main(imagesS))/(np.max(imagesS) - np.min(imagesS))\n",
    "        imagesS = np.vstack(imagesS)\n",
    "        imagesS = np.resize(imagesS,[len(imagesS),84,84,3])\n",
    "        luminance = np.max(imagesS,3)\n",
    "        imagesS = np.multiply(np.ones([len(imagesS),84,84,3]),\\\n",
    "                             np.reshape(luminance,[len(imagesS),84,84,1]))\n",
    "        make_gif(np.ones([len(imagesS),84,84,3]),'./Center/frames/sal'+str(i)+'.gif',\\\n",
    "                duration=len(imagesS)*time_per_step,true_image=False,salience=True,\\\n",
    "                 salIMGS=luminance)\n",
    "        \n",
    "        images = list(zip(bufferArray[:,0]))\n",
    "        images.append(bufferArray[-1,3])\n",
    "        images = np.vstack(images)\n",
    "        images = np.resize(images,[len(images),84,84,3])\n",
    "        make_gif(images, './Center/frames/image'+str(i)+'.gif',\\\n",
    "                duration=len(images)*time_per_step,true_image=True,salience=False)\n",
    "        \n",
    "        wr = csv.writer(myfile, quoting=csv.QUOTE_ALL)\n",
    "        wr.writerow([i,np,mean(jList[-100:0]),np.mean(rList[-summaryLength:]),\\\n",
    "                    './frames/image'+str(i)+'.gif','./frames/log'+str(i)+'.csv',\\\n",
    "                    './frames/sal'+str(i)+'.gif'])\n",
    "        myfile.close()\n",
    "    with open('./Center/frames/log'+str(i)+'.csv','w') as myfile:\n",
    "        state_train = (np.zeros([1,h_size]),np.zeros([1,h_size]))\n",
    "        wr = csv.writer(myfile, quoting=csv.QUOTE_ALL)\n",
    "        wr.writerow([\"ACTION\",\"REWARD\",\"A0\",\"A1\",'A2','A3','V'])\n",
    "        a, v = sess.run([mainQN.Advantage,mainQN.Value],\\\n",
    "                       feed_dict={mainQN.scalarInput:np.vstack(bufferArray[:,0])/255.0,\\\n",
    "                                 mainQN.trainLength:len(bufferArray),mainQN.state_in:state_train,\\\n",
    "                                 mainQN.batch_size:1})\n",
    "        wr.writerows(zip(bufferArray[:,1],bufferArray[:,2],\\\n",
    "                        a[:,0],a[:,1],a[:,2],a[:,3],v[:,0]))\n",
    "        "
   ]
  },
  {
   "cell_type": "code",
   "execution_count": 7,
   "metadata": {},
   "outputs": [],
   "source": [
    "# 학습 에피소드를 GIF로 저장(컨트롤 센터 용)\n",
    "def make_gif(images, fname, duration=2, true_image=False, salience=False, salIMGS=None):\n",
    "    import moviepy.editor as mpy\n",
    "    \n",
    "    def make_frame(t):\n",
    "        try:\n",
    "            x = images[int(len(images)/duration*t)]\n",
    "        except:\n",
    "            x = imagse[-1]\n",
    "            \n",
    "        if true_image:\n",
    "            return x.astype(np.uint8)\n",
    "        else:\n",
    "            return ((x+1)/2*255).astype(np.uint8)\n",
    "        \n",
    "    def make_mask(t):\n",
    "        try:\n",
    "            x = salIMGS[int(len(salIMGS)/duration*t)]\n",
    "        except:\n",
    "            x = salIMGS[-1]\n",
    "        return x\n",
    "    \n",
    "    clip = mpy.VideoClip(make_frame, duration=duration)\n",
    "    if salience == True:\n",
    "        mask = mpy.VideoClip(make_mask, ismask=True,duration = duration)\n",
    "        clipB = clip.set_mask(mask)\n",
    "        clipB = clip.set_opacity(0)\n",
    "        mask = mask.set_opacity(0.1)\n",
    "        mask.write_gif(fname, fps=len(images) / duration, verbose=False)\n",
    "        #clipB.write_gif(fname, fps=len(images)/duration, verbose=False)\n",
    "    else:\n",
    "        clip.write_gif(fname, fps=len(images)/duration, verbose=False)"
   ]
  }
 ],
 "metadata": {
  "kernelspec": {
   "display_name": "Python 3",
   "language": "python",
   "name": "python3"
  },
  "language_info": {
   "codemirror_mode": {
    "name": "ipython",
    "version": 3
   },
   "file_extension": ".py",
   "mimetype": "text/x-python",
   "name": "python",
   "nbconvert_exporter": "python",
   "pygments_lexer": "ipython3",
   "version": "3.7.4"
  }
 },
 "nbformat": 4,
 "nbformat_minor": 2
}
