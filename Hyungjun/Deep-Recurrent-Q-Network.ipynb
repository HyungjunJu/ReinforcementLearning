{
 "cells": [
  {
   "cell_type": "markdown",
   "metadata": {},
   "source": [
    "# DRQN 구현\n"
   ]
  },
  {
   "cell_type": "code",
   "execution_count": 2,
   "metadata": {},
   "outputs": [],
   "source": [
    "import numpy as np\n",
    "import random\n",
    "import tensorflow as tf\n",
    "import matplotlib.pyplot as plt\n",
    "import scipy.misc\n",
    "import os\n",
    "import csv\n",
    "import itertools\n",
    "import tensorflow.contrib.slim as slim\n",
    "%matplotlib inline\n",
    "\n",
    "from helper import *"
   ]
  },
  {
   "cell_type": "code",
   "execution_count": 1,
   "metadata": {},
   "outputs": [],
   "source": [
    "from gridworld import gameEnv\n",
    "\n",
    "env = gameEnv(partial=True, size=9)"
   ]
  },
  {
   "cell_type": "code",
   "execution_count": null,
   "metadata": {},
   "outputs": [],
   "source": [
    "class Qnetwork():\n",
    "    def __init__(self,h_size,rnn_cell,myScope):\n",
    "        # 네트워크는 게임으로부터 하나의 프레임을 받아 이를 배열로 만든다(flattening).\n",
    "        # 그 다음 배열의 크기를 재조절하고 4개의 합성곱 계층을 거처 처리한다.\n",
    "        self.scalarInput = tf.placeholder(shape=[None,21168],dtype=tf.loat32)\n",
    "        self.imageIn = tf.reshape(self.scalarInput, shape=[-1,84,84,3])\n",
    "        self.conf1 = slim.convolution2d(inputs=self.imageIn,num_outputs=32,\\\n",
    "                                       kernel_size=[8,8],stride=[4,4],padding='VALID',\\\n",
    "                                       biases_initalizer=None,scope=myScope+'_conv1')\n",
    "        self.conf2 = slim.convolution2d(inputs=self.imageIn,num_outputs=32,\\\n",
    "                                       kernel_size=[4,4],stride=[2,2],padding='VALID',\\\n",
    "                                       biases_initalizer=None,scope=myScope+'_conv2')\n",
    "        self.conf3 = slim.convolution2d(inputs=self.imageIn,num_outputs=32,\\\n",
    "                                       kernel_size=[3,3],stride=[1,1],padding='VALID',\\\n",
    "                                       biases_initalizer=None,scope=myScope+'_conv3')\n",
    "        self.conf4 = slim.convolution2d(inputs=self.imageIn,num_outputs=32,\\\n",
    "                                       kernel_size=[7,7],stride=[1,1],padding='VALID',\\\n",
    "                                       biases_initalizer=None,scope=myScope+'_conv4')\n",
    "        \n",
    "        self.trainLength = tf.placeholder(dtype=tf.int32)\n",
    "        # 마지막 합성곱 계층에서 출력값을 취한 후 이를 순환 계층에 보낸다.\n",
    "        # 입력값은 RNN 처리를 위해 [batch x trace x units]으로 크기를 바꿔야 하며\n",
    "        # 상위 레벨로 전달될 때 [batch x units] 형태로 리턴해야 한다.\n",
    "        self.batch_size = tf.placeholder(dtype=tf.int32)\n",
    "        self.confFlat = tf.reshape(slim.flatten(self.conv4), [self.batch_size,self.trainLength,h_size])\n",
    "        tt"
   ]
  }
 ],
 "metadata": {
  "kernelspec": {
   "display_name": "Python 3",
   "language": "python",
   "name": "python3"
  },
  "language_info": {
   "codemirror_mode": {
    "name": "ipython",
    "version": 3
   },
   "file_extension": ".py",
   "mimetype": "text/x-python",
   "name": "python",
   "nbconvert_exporter": "python",
   "pygments_lexer": "ipython3",
   "version": "3.7.4"
  }
 },
 "nbformat": 4,
 "nbformat_minor": 2
}
