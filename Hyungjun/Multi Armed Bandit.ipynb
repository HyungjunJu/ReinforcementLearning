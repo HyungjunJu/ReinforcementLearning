{
 "cells": [
  {
   "cell_type": "markdown",
   "metadata": {},
   "source": [
    "# Bandit\n",
    "for first step of reinforcement learning, implement multi-armed bandit (MAB) problems"
   ]
  },
  {
   "cell_type": "code",
   "execution_count": 2,
   "metadata": {
    "scrolled": true
   },
   "outputs": [],
   "source": [
    "import tensorflow as tf\n",
    "import tensorflow.contrib.slim as slim\n",
    "import numpy as np"
   ]
  },
  {
   "cell_type": "code",
   "execution_count": 3,
   "metadata": {},
   "outputs": [],
   "source": [
    "# 밴딧의 손잡이 목록을 작성\n",
    "# 현재 손잡이들 중 4번째(인덱스는 3)손잡이가 가장 자주 양의 보상을 제공토록 설정\n",
    "bandit_arms = [0.2,0,-0.2,2]\n",
    "num_arms = len(bandit_arms)\n",
    "def pullBandit(bandit):\n",
    "    # 랜덤한 값을 구함````\n",
    "    result = np.random.randn(1)\n",
    "    if result > bandit:\n",
    "        # 양의 보상을 반환\n",
    "        return 1\n",
    "    else:\n",
    "        # 음의 보상을 반환\n",
    "        return -1"
   ]
  },
  {
   "cell_type": "code",
   "execution_count": 4,
   "metadata": {},
   "outputs": [],
   "source": [
    "tf.reset_default_graph()\n",
    "\n",
    "# 네트워크의 피드포워드 부분을 구현한다.\n",
    "weights = tf.Variable(tf.ones([num_arms]))\n",
    "output = tf.nn.softmax(weights)\n",
    "\n",
    "# 학습 과정을 구현\n",
    "# 보상과 선택된 액션을 네트워크에 피드해줌으로써 비용을 계산하고\n",
    "# 비용을 이용해 네트워크를 업데이트한다.\n",
    "reward_holder = tf.placeholder(shape=[1],dtype=tf.float32)\n",
    "action_holder = tf.placeholder(shape=[1],dtype=tf.int32)\n",
    "\n",
    "responsible_output = tf.slice(output,action_holder,[1])\n",
    "loss = -(tf.log(responsible_output)*reward_holder)\n",
    "optimizer = tf.train.AdamOptimizer(learning_rate=1e-3)\n",
    "update = optimizer.minimize(loss)"
   ]
  },
  {
   "cell_type": "code",
   "execution_count": 6,
   "metadata": {},
   "outputs": [
    {
     "name": "stdout",
     "output_type": "stream",
     "text": [
      "Running reward for the 4 arms of the bandit: [1. 0. 0. 0.]\n",
      "Running reward for the 4 arms of the bandit: [ 7.  2.  1. 17.]\n",
      "Running reward for the 4 arms of the bandit: [ 1. -1.  6. 25.]\n",
      "Running reward for the 4 arms of the bandit: [-3.  3.  4. 35.]\n",
      "Running reward for the 4 arms of the bandit: [-8.  1.  3. 49.]\n",
      "Running reward for the 4 arms of the bandit: [-9. -2.  6. 58.]\n",
      "Running reward for the 4 arms of the bandit: [-12.  -4.   7.  70.]\n",
      "Running reward for the 4 arms of the bandit: [-13.  -8.  11.  83.]\n",
      "Running reward for the 4 arms of the bandit: [-19.  -7.  13.  98.]\n",
      "Running reward for the 4 arms of the bandit: [-25.  -8.  18. 114.]\n",
      "Running reward for the 4 arms of the bandit: [-29. -16.  10. 130.]\n",
      "Running reward for the 4 arms of the bandit: [-31. -16.  15. 145.]\n",
      "Running reward for the 4 arms of the bandit: [-32. -15.  16. 166.]\n",
      "Running reward for the 4 arms of the bandit: [-35. -15.  21. 186.]\n",
      "Running reward for the 4 arms of the bandit: [-35. -11.  22. 201.]\n",
      "Running reward for the 4 arms of the bandit: [-34. -15.  26. 220.]\n",
      "Running reward for the 4 arms of the bandit: [-39. -14.  32. 242.]\n",
      "Running reward for the 4 arms of the bandit: [-40.  -9.  29. 265.]\n",
      "Running reward for the 4 arms of the bandit: [-46.  -1.  33. 283.]\n",
      "Running reward for the 4 arms of the bandit: [-48.  -2.  33. 304.]\n",
      "\n",
      "The agent thinks arm 4 is the most promising...\n",
      "...and it was right\n"
     ]
    }
   ],
   "source": [
    "# 에이전트를 학습시킬 총 에피소드의 수를 설정한다.\n",
    "total_episodes = 1000\n",
    "\n",
    "# 밴딧 손잡이에 대한 점수판을 0으로 설정\n",
    "total_reward = np.zeros(num_arms)\n",
    "\n",
    "init = tf.global_variables_initializer()\n",
    "\n",
    "# 텐서플로 그래프를 론칭한다.\n",
    "with tf.Session() as sess:\n",
    "    sess.run(init)\n",
    "    i = 0\n",
    "    while i < total_episodes:\n",
    "        # 볼츠만 분포에 따라 액션 선택\n",
    "        actions = sess.run(output)\n",
    "        a = np.random.choice(actions, p=actions)\n",
    "        action = np.argmax(actions == a)\n",
    "        \n",
    "        # 밴딧 손잡이 중 하나를 선택함으로써 보상을 받는다.\n",
    "        reward = pullBandit(bandit_arms[action])\n",
    "        \n",
    "        # 네트워크를 업데이트한다\n",
    "        _,resp,ww = sess.run([update,responsible_output,weights],\\\n",
    "                            feed_dict={reward_holder:[reward],action_holder:[action]})\n",
    "        \n",
    "        # 보상의 층계 업데이트\n",
    "        total_reward[action] += reward\n",
    "        if i % 50 == 0:\n",
    "            print(\"Running reward for the \" + str(num_arms) + \" arms of the bandit: \" + str(total_reward))\n",
    "        \n",
    "        i+= 1\n",
    "        \n",
    "    print(\"\\nThe agent thinks arm \" + str(np.argmax(ww)+1) + \" is the most promising...\")\n",
    "    if np.argmax(ww) == np.argmax(-np.array(bandit_arms)):\n",
    "        print(\"...and it was right\")\n",
    "    else:\n",
    "        print(\"...and it was wrong\")"
   ]
  }
 ],
 "metadata": {
  "kernelspec": {
   "display_name": "Python 3",
   "language": "python",
   "name": "python3"
  },
  "language_info": {
   "codemirror_mode": {
    "name": "ipython",
    "version": 3
   },
   "file_extension": ".py",
   "mimetype": "text/x-python",
   "name": "python",
   "nbconvert_exporter": "python",
   "pygments_lexer": "ipython3",
   "version": "3.7.5"
  }
 },
 "nbformat": 4,
 "nbformat_minor": 2
}
